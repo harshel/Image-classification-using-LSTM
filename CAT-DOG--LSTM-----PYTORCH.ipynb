{
 "cells": [
  {
   "cell_type": "code",
   "execution_count": 56,
   "metadata": {},
   "outputs": [],
   "source": [
    "import torch\n",
    "import torchvision\n",
    "from torchvision import datasets, transforms\n",
    "from torch.utils.data import DataLoader\n",
    "import torch.nn as nn\n",
    "import torch.optim as optim\n",
    "import torch.nn.functional as F\n",
    "\n",
    "import matplotlib.pyplot as plt\n",
    "import numpy as np"
   ]
  },
  {
   "cell_type": "code",
   "execution_count": 57,
   "metadata": {},
   "outputs": [],
   "source": [
    "#define the transformations that we want to apply\n",
    "transformations = {'train' : transforms.Compose([transforms.Resize((32, 32)),\n",
    "                                                 transforms.Grayscale(),\n",
    "                                                 transforms.ToTensor()])}"
   ]
  },
  {
   "cell_type": "code",
   "execution_count": 58,
   "metadata": {},
   "outputs": [],
   "source": [
    "#define the path to our datasets\n",
    "train_path = \"D:/Drive-F/Learn python/Notebooks/Notebooks/Mynotebooks/CAT AND DOG/cat_dog/cat_dogs_small/train\"\n",
    "valid_path = \"D:/Drive-F/Learn python/Notebooks/Notebooks/Mynotebooks/CAT AND DOG/cat_dog/cat_dogs_small/validation\"\n",
    "dataset = {'train' : datasets.ImageFolder(train_path, transform = transformations['train']),\n",
    "          'valid' : datasets.ImageFolder(valid_path, transform = transformations['train'])}"
   ]
  },
  {
   "cell_type": "code",
   "execution_count": 59,
   "metadata": {},
   "outputs": [],
   "source": [
    "#load the dataset\n",
    "data_loader = {'train' : DataLoader(dataset['train'], batch_size = 32, shuffle = True),\n",
    "              'valid' : DataLoader(dataset['valid'], batch_size = 32, shuffle = False)}"
   ]
  },
  {
   "cell_type": "code",
   "execution_count": 62,
   "metadata": {},
   "outputs": [],
   "source": [
    "images, labels = next(iter(data_loader['train']))"
   ]
  },
  {
   "cell_type": "code",
   "execution_count": 63,
   "metadata": {},
   "outputs": [
    {
     "data": {
      "text/plain": [
       "torch.Size([32, 1, 32, 32])"
      ]
     },
     "execution_count": 63,
     "metadata": {},
     "output_type": "execute_result"
    }
   ],
   "source": [
    "images.shape"
   ]
  },
  {
   "cell_type": "code",
   "execution_count": 64,
   "metadata": {},
   "outputs": [
    {
     "name": "stdout",
     "output_type": "stream",
     "text": [
      "cuda\n"
     ]
    }
   ],
   "source": [
    "#see if cuda is available\n",
    "device = torch.device(\"cuda\" if torch.cuda.is_available() else 'cpu')\n",
    "print(device)"
   ]
  },
  {
   "cell_type": "code",
   "execution_count": 65,
   "metadata": {},
   "outputs": [],
   "source": [
    "class LSTM(nn.Module):\n",
    "    def __init__(self, input_dim, output_dim, hidden_dim, n_layers):\n",
    "        super(LSTM, self).__init__()\n",
    "        \n",
    "        self.n_layers = n_layers\n",
    "        self.hidden_dim = hidden_dim\n",
    "        \n",
    "        self.lstm = nn.LSTM(input_dim, hidden_dim, num_layers = n_layers, batch_first = True)\n",
    "        self.fc = nn.Linear(hidden_dim, output_dim)\n",
    "        \n",
    "    def forward(self, x):\n",
    "        #initialize the hidden state and the cell state with zeros\n",
    "        h0 = torch.zeros(self.n_layers, x.size(0), self.hidden_dim).to(device)\n",
    "        c0 = torch.zeros(self.n_layers, x.size(0), self.hidden_dim).to(device)\n",
    "        \n",
    "        out, (hidden, cell) = self.lstm(x, (h0, c0))\n",
    "        \n",
    "        output_ = out[:, -1, :]\n",
    "        \n",
    "        output = self.fc(output_)\n",
    "        \n",
    "        return output"
   ]
  },
  {
   "cell_type": "code",
   "execution_count": 66,
   "metadata": {},
   "outputs": [
    {
     "name": "stdout",
     "output_type": "stream",
     "text": [
      "LSTM(\n",
      "  (lstm): LSTM(32, 128, num_layers=2, batch_first=True)\n",
      "  (fc): Linear(in_features=128, out_features=2, bias=True)\n",
      ")\n"
     ]
    }
   ],
   "source": [
    "#instatiate the model\n",
    "SEQ_LEN = 32\n",
    "INPUT_DIM = 32\n",
    "OUTPUT_DIM = 2\n",
    "HIDDEN_DIM = 128\n",
    "N_LAYERS = 2\n",
    "model = LSTM(input_dim = INPUT_DIM, output_dim = OUTPUT_DIM, hidden_dim = HIDDEN_DIM, n_layers = N_LAYERS)\n",
    "model = model.to(device)\n",
    "print(model)"
   ]
  },
  {
   "cell_type": "code",
   "execution_count": 67,
   "metadata": {},
   "outputs": [],
   "source": [
    "#define the optimizer\n",
    "optimizer = optim.Adam(model.parameters(), lr = 0.001)"
   ]
  },
  {
   "cell_type": "code",
   "execution_count": 68,
   "metadata": {},
   "outputs": [],
   "source": [
    "#define the loss function\n",
    "criterion = nn.CrossEntropyLoss()"
   ]
  },
  {
   "cell_type": "code",
   "execution_count": 91,
   "metadata": {},
   "outputs": [],
   "source": [
    "#now we will TRAIN the model\n",
    "def train_model(model, criterion, optimizer, num_epochs):\n",
    "    for epoch in range(num_epochs):\n",
    "        print('Epoch {}/{}'.format(epoch+1, num_epochs))\n",
    "        print('-' * 10)\n",
    "\n",
    "        for phase in ['train', 'valid']:\n",
    "            if phase == 'train':\n",
    "                model.train()\n",
    "            else:\n",
    "                model.eval()\n",
    "\n",
    "            running_loss = 0.0\n",
    "            running_corrects = 0.0\n",
    "\n",
    "            for input_, label in data_loader[phase]:\n",
    "                inputs = input_.squeeze(1).to(device)\n",
    "                labels = label.to(device)\n",
    "\n",
    "                outputs = model(inputs)\n",
    "                loss = criterion(outputs, labels)\n",
    "\n",
    "                if phase == 'train':\n",
    "                    optimizer.zero_grad()\n",
    "                    loss.backward()\n",
    "                    optimizer.step()\n",
    "\n",
    "                _, preds = torch.max(outputs, 1)\n",
    "                running_loss += loss.detach() * inputs.size(0)\n",
    "                running_corrects += torch.sum(preds == labels.data)\n",
    "\n",
    "            epoch_loss = running_loss / len(dataset[phase])\n",
    "            epoch_acc = running_corrects.float() / len(dataset[phase])\n",
    "\n",
    "            print('{} loss: {:.4f}, acc: {:.4f}'.format(phase, epoch_loss.item(), epoch_acc.item()))\n",
    "    return model"
   ]
  },
  {
   "cell_type": "code",
   "execution_count": 92,
   "metadata": {},
   "outputs": [
    {
     "name": "stdout",
     "output_type": "stream",
     "text": [
      "Epoch 1/10\n",
      "----------\n",
      "train loss: 0.6838, acc: 0.5545\n",
      "valid loss: 0.6735, acc: 0.6080\n",
      "Epoch 2/10\n",
      "----------\n",
      "train loss: 0.6720, acc: 0.5935\n",
      "valid loss: 0.6641, acc: 0.6030\n",
      "Epoch 3/10\n",
      "----------\n",
      "train loss: 0.6654, acc: 0.6040\n",
      "valid loss: 0.6696, acc: 0.5960\n",
      "Epoch 4/10\n",
      "----------\n",
      "train loss: 0.6652, acc: 0.5975\n",
      "valid loss: 0.6649, acc: 0.6060\n",
      "Epoch 5/10\n",
      "----------\n",
      "train loss: 0.6530, acc: 0.6215\n",
      "valid loss: 0.6581, acc: 0.6180\n",
      "Epoch 6/10\n",
      "----------\n",
      "train loss: 0.6507, acc: 0.6210\n",
      "valid loss: 0.6661, acc: 0.6020\n",
      "Epoch 7/10\n",
      "----------\n",
      "train loss: 0.6483, acc: 0.6235\n",
      "valid loss: 0.6558, acc: 0.6150\n",
      "Epoch 8/10\n",
      "----------\n",
      "train loss: 0.6427, acc: 0.6200\n",
      "valid loss: 0.6617, acc: 0.6250\n",
      "Epoch 9/10\n",
      "----------\n",
      "train loss: 0.6356, acc: 0.6290\n",
      "valid loss: 0.6594, acc: 0.6140\n",
      "Epoch 10/10\n",
      "----------\n",
      "train loss: 0.6354, acc: 0.6415\n",
      "valid loss: 0.6567, acc: 0.6270\n"
     ]
    }
   ],
   "source": [
    "training = train_model(model = model, criterion = criterion, optimizer = optimizer, num_epochs = 10)"
   ]
  },
  {
   "cell_type": "code",
   "execution_count": null,
   "metadata": {},
   "outputs": [],
   "source": []
  }
 ],
 "metadata": {
  "kernelspec": {
   "display_name": "Python 3",
   "language": "python",
   "name": "python3"
  },
  "language_info": {
   "codemirror_mode": {
    "name": "ipython",
    "version": 3
   },
   "file_extension": ".py",
   "mimetype": "text/x-python",
   "name": "python",
   "nbconvert_exporter": "python",
   "pygments_lexer": "ipython3",
   "version": "3.6.5"
  }
 },
 "nbformat": 4,
 "nbformat_minor": 2
}
